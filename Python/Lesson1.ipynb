{
 "cells": [
  {
   "cell_type": "code",
   "execution_count": 1,
   "id": "92acbba8-5880-4292-b6ba-cf49bfee3cd4",
   "metadata": {},
   "outputs": [
    {
     "name": "stdout",
     "output_type": "stream",
     "text": [
      " mai yark f voyyy\n"
     ]
    },
    {
     "name": "stdout",
     "output_type": "stream",
     "text": [
      "mai yark f voyyy\n"
     ]
    }
   ],
   "source": [
    "data = input()\n",
    "num = int(data)\n",
    "#data = int(input())\n",
    "#data = int(input(\"Put your number:\"))\n",
    "print(data)\n",
    "#print(type(data))\n"
   ]
  },
  {
   "cell_type": "code",
   "execution_count": 2,
   "id": "03bc722d-b89a-4925-9dc6-5ea070e5cc49",
   "metadata": {},
   "outputs": [
    {
     "name": "stdout",
     "output_type": "stream",
     "text": [
      "Put your number: 567890\n"
     ]
    },
    {
     "name": "stdout",
     "output_type": "stream",
     "text": [
      "567890\n"
     ]
    }
   ],
   "source": [
    "data = int(input(\"Put your number:\"))\n",
    "print(data)"
   ]
  },
  {
   "cell_type": "code",
   "execution_count": 11,
   "id": "cc143e1f-2d56-4b0c-ac53-0d7c978fe3c1",
   "metadata": {},
   "outputs": [
    {
     "name": "stdout",
     "output_type": "stream",
     "text": [
      "Your number is: 12345\n",
      "Your numbers: 12345 2 234.678000 3\n",
      "Your numbers: 12345 2 234.68 3\n",
      "Your numbers: 12345 2 3\n",
      "Your numbers: 12345 2 3.00\n",
      "Your numbers: 12345 2 3\n"
     ]
    }
   ],
   "source": [
    "#type of print\n",
    "data = 12345\n",
    "data1 = 2\n",
    "data2 = 234.678\n",
    "data3 = 3\n",
    "\n",
    "#1\n",
    "print(\"Your number is: %d\"%data)\n",
    "#2\n",
    "print(\"Your numbers: %d %d %f %d\"%(data,data1,data2,data3))\n",
    "print(\"Your numbers: %d %d %.2f %d\"%(data,data1,data2,data3))\n",
    "#3\n",
    "print(f\"Your numbers: {data} {data1} {data3}\")\n",
    "print(f\"Your numbers: {data} {data1} {data3:.2f}\")\n",
    "#4\n",
    "print(\"Your numbers:\" ,data,data1,data3)\n"
   ]
  },
  {
   "cell_type": "code",
   "execution_count": 14,
   "id": "5490248f-0fb8-4aad-965a-b7d412c3d905",
   "metadata": {},
   "outputs": [
    {
     "name": "stdout",
     "output_type": "stream",
     "text": [
      "AB\n",
      "AB\n"
     ]
    },
    {
     "data": {
      "text/plain": [
       "2"
      ]
     },
     "execution_count": 14,
     "metadata": {},
     "output_type": "execute_result"
    }
   ],
   "source": [
    "s1 = 'A'\n",
    "s2 = 'B'\n",
    "word = s1+s2\n",
    "#1\n",
    "print(word)\n",
    "#2\n",
    "print(s1+s2)\n",
    "#3\n",
    "s1+s2\n",
    "\n",
    "#1\n",
    "len(word)\n",
    "#2\n",
    "len(s1+s2)"
   ]
  },
  {
   "cell_type": "code",
   "execution_count": 23,
   "id": "5faa5365-2b5e-4e73-9d05-fbc4b37daf19",
   "metadata": {},
   "outputs": [
    {
     "name": "stdout",
     "output_type": "stream",
     "text": [
      "0\n",
      "0?1\n",
      "1?2\n",
      "2?3\n",
      "3?4\n",
      "4?5\n",
      "5?6\n",
      "6?7\n",
      "7?8\n",
      "8?9\n",
      "9?B\n"
     ]
    }
   ],
   "source": [
    "#loop\n",
    "for i in range(10):\n",
    "    #have /n\n",
    "    print(i)\n",
    "    #Dont have /n and add borderline with (end=\"space\")\n",
    "    print(i ,end=\"?\")\n",
    "#out of for loop\n",
    "print('B')    "
   ]
  },
  {
   "cell_type": "code",
   "execution_count": 41,
   "id": "208f6d27-a712-4561-acc2-366fc41b5199",
   "metadata": {},
   "outputs": [
    {
     "name": "stdout",
     "output_type": "stream",
     "text": [
      "[10, 20, 30, 40, 'like', 50.5]\n",
      "[20, 30, 40, 60]\n",
      "[10, 20, 30, 40, 60]\n"
     ]
    },
    {
     "data": {
      "text/plain": [
       "6"
      ]
     },
     "execution_count": 41,
     "metadata": {},
     "output_type": "execute_result"
    }
   ],
   "source": [
    "#list(String, float ,int)\n",
    "#list  is linked list\n",
    "list = [10,20,30,40,'like',50.50]\n",
    "#can Add,Remove\n",
    "print(list)\n",
    "#add\n",
    "list.append(\"god\")\n",
    "#remove but just look for first to found and delete\n",
    "list.remove(20)\n",
    "#sorting about one type if you have int, float,string(different type) you cant sort this list except you have int,int,int (same type)\n",
    "list1 = [20,60,30,40]\n",
    "list1.sort()\n",
    "print(list1)\n",
    "\n",
    "list1.append(10)\n",
    "list1.sort()\n",
    "print(list1)\n",
    "#max\n",
    "max(list1)\n",
    "min(list1)\n",
    "#len can use with list and dot care if you have different data type\n",
    "#same data type\n",
    "len(list1)\n",
    "#dif data type\n",
    "len(list)\n",
    "#conjunction list with plus (+) \n",
    "#1\n",
    "list1+list\n",
    "#2\n",
    "list+=list1\n",
    "\n",
    "\n",
    "\n"
   ]
  },
  {
   "cell_type": "code",
   "execution_count": 44,
   "id": "e221d05a-65f0-451c-8486-2a27f2918bae",
   "metadata": {},
   "outputs": [
    {
     "name": "stdout",
     "output_type": "stream",
     "text": [
      "(21, 'Mengumi', 77)\n",
      "(11, 12)\n",
      "(21, 'Mengumi', 77, 11, 12)\n"
     ]
    }
   ],
   "source": [
    "#tuple \n",
    "#tuple is not array ,cant change value on any index\n",
    "\n",
    "tuple = (21, \"Mengumi\",77)\n",
    "tuple1 = (11,12)\n",
    "#can plus tuple wiht another one\n",
    "t= tuple+tuple1 \n",
    "print(tuple)\n",
    "print(tuple1)\n",
    "print(t)\n",
    "#can look for and print\n",
    "print (tuple[0])\n",
    "#but cant fix to add or remove\n"
   ]
  },
  {
   "cell_type": "code",
   "execution_count": 77,
   "id": "a6fb2a58-dd18-460e-8d16-1ab417522a52",
   "metadata": {},
   "outputs": [
    {
     "name": "stdout",
     "output_type": "stream",
     "text": [
      "{'Apple': [35000, 40000, 45000], 'Samsumg': 30000, 15000: 'Vivo'}\n",
      "price of Apple: [35000, 40000, 45000]\n",
      "Phone 15000 bath is  Vivo\n"
     ]
    },
    {
     "data": {
      "text/plain": [
       "3"
      ]
     },
     "execution_count": 77,
     "metadata": {},
     "output_type": "execute_result"
    }
   ],
   "source": [
    "#dict\n",
    "#dictionary is ilke hashing table [HashMap]\n",
    "#1\n",
    "dict1 = {\"Apple\":[35000,40000,45000],\"Samsumg\":30000,15000:\"Vivo\"}\n",
    "#front = keyword ,back = value\n",
    "# a keyword support more than one value\n",
    "print (dict1)\n",
    "#how to access result of keyword\n",
    "print(\"price of Apple:\" ,dict1[\"Apple\"])\n",
    "print(\"Phone 15000 bath is \",dict1[15000])\n",
    "len(dict1)"
   ]
  },
  {
   "cell_type": "code",
   "execution_count": 72,
   "id": "7367782c-9a38-4ddc-be5f-24a8574ec6c3",
   "metadata": {},
   "outputs": [
    {
     "name": "stdout",
     "output_type": "stream",
     "text": [
      "10\n",
      "20\n",
      "30\n",
      "40\n",
      "50\n",
      "60\n"
     ]
    }
   ],
   "source": [
    "list=[10,20,30,40,50,60]\n",
    "for i in list :\n",
    "    print(i)"
   ]
  },
  {
   "cell_type": "code",
   "execution_count": 74,
   "id": "57fe0f33-2846-42cb-84b0-16c158c861f1",
   "metadata": {},
   "outputs": [
    {
     "name": "stdout",
     "output_type": "stream",
     "text": [
      "Apple\n",
      "Samsumg\n",
      "15000\n"
     ]
    }
   ],
   "source": [
    "dict = {\"Apple\":[35000,40000,45000],\"Samsumg\":30000,15000:\"Vivo\"}\n",
    "for i in dict:\n",
    "    print(i)"
   ]
  },
  {
   "cell_type": "code",
   "execution_count": 88,
   "id": "343cfee2-9c75-40b2-a805-328197798248",
   "metadata": {},
   "outputs": [
    {
     "name": "stdout",
     "output_type": "stream",
     "text": [
      "[20, 30, 40]\n",
      "60\n",
      "[10, 30]\n",
      "Reverse :  [60, 50, 40, 30, 20, 10]\n",
      "[10, 20, 30, 40, 50, 60]\n"
     ]
    }
   ],
   "source": [
    "#Data collection index slicing\n",
    "\n",
    "list=[10,20,30,40,50,60]\n",
    "#front to back\n",
    "#[start:index-1]\n",
    "print(list[1:4])\n",
    "#reverse\n",
    "print(list[-1])\n",
    "#Move\n",
    "print(list[0:4:2])\n",
    "#1\n",
    "list.reverse()\n",
    "print(\"Reverse : \",list)\n",
    "#2\n",
    "print(list[::-1])\n"
   ]
  },
  {
   "cell_type": "code",
   "execution_count": null,
   "id": "640ed904-94b5-4f98-a937-847ce7b3ade0",
   "metadata": {},
   "outputs": [],
   "source": []
  }
 ],
 "metadata": {
  "kernelspec": {
   "display_name": "Python 3 (ipykernel)",
   "language": "python",
   "name": "python3"
  },
  "language_info": {
   "codemirror_mode": {
    "name": "ipython",
    "version": 3
   },
   "file_extension": ".py",
   "mimetype": "text/x-python",
   "name": "python",
   "nbconvert_exporter": "python",
   "pygments_lexer": "ipython3",
   "version": "3.12.0"
  }
 },
 "nbformat": 4,
 "nbformat_minor": 5
}
